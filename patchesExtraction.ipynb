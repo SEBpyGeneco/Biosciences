{
 "cells": [
  {
   "cell_type": "code",
   "execution_count": 1,
   "id": "35f26efe",
   "metadata": {},
   "outputs": [],
   "source": [
    "from sklearn.datasets import load_sample_image\n",
    "from sklearn.feature_extraction import image\n",
    "from skimage import io\n",
    "\n",
    "import numpy as np\n",
    "import skimage.color\n",
    "import skimage.io\n",
    "import matplotlib.pyplot as plt\n",
    "\n",
    "from os import listdir"
   ]
  },
  {
   "cell_type": "code",
   "execution_count": 58,
   "id": "a07e5b83",
   "metadata": {},
   "outputs": [],
   "source": [
    "######################################## FUNCTIONS ########################################\n",
    "\n",
    "def extract_patches(path, size, patch_count) :\n",
    "    img = io.imread(path)\n",
    "    patches = image.extract_patches_2d(img, (size,size),max_patches=patch_count)\n",
    "    return patches\n",
    "\n",
    "def folder_patches(path, size = 100, patch_count = 50) :\n",
    "    patches = np.ndarray((0,size,size))\n",
    "    for file in listdir(path) :\n",
    "        new_patches = extract_patches(data_dir+\"/\"+file, size, patch_count)\n",
    "        patches = np.concatenate((patches, new_patches))\n",
    "    return patches\n",
    "\n",
    "def patch_show(patch) :\n",
    "    io.imshow(patch)\n",
    "    # les images de bases sont en unsigned 16 bits donc les pixels vont de 0 --> 65535\n",
    "    histogramme, classes = np.histogram(patch, bins=65536)\n",
    "    print(histogramme)\n",
    "\n",
    "    plt.figure()\n",
    "    plt.xlabel(\"pixel value\")\n",
    "    plt.ylabel(\"pixel count\")\n",
    "    plt.yscale('log')\n",
    "    plt.plot(classes[0:-1], histogramme)\n",
    "    plt.show()\n",
    "    \n",
    "def patches_stats(patches) :\n",
    "    print(\"Il y a %s patches\" %(len(patches)))\n",
    "    \n",
    "    averages = np.mean(patches,axis=(1,2))\n",
    "    #np.mean (on choisit les images qui ont une moyenne assez élevée ?)\n",
    "    #np.var (on choisit les images qui ont une forte variance, donc pas que tout blanc tout noir ?)\n",
    "    histogramme, classes = np.histogram(averages, bins=65536)\n",
    "    print(histogramme)\n",
    "\n",
    "    plt.figure()\n",
    "    plt.xlabel(\"average pixel value of a patch\")\n",
    "    plt.ylabel(\"pixel count\")\n",
    "    plt.yscale('log')\n",
    "    plt.plot(classes[0:-1], histogramme)\n",
    "    plt.show()\n",
    "    "
   ]
  },
  {
   "cell_type": "code",
   "execution_count": 59,
   "id": "bd537202",
   "metadata": {},
   "outputs": [
    {
     "name": "stdout",
     "output_type": "stream",
     "text": [
      "Il y a 190000 patches\n",
      "[1 0 0 ... 0 0 1]\n"
     ]
    },
    {
     "data": {
      "image/png": "[encoded data removed]",
      "text/plain": [
       "<Figure size 432x288 with 1 Axes>"
      ]
     },
     "metadata": {
      "needs_background": "light"
     },
     "output_type": "display_data"
    }
   ],
   "source": [
    "######################################## MAIN ########################################\n",
    "data_dir = './Data/Good'\n",
    "\n",
    "patches = folder_patches(data_dir,size=10,patch_count=10000)\n",
    "\n",
    "# pour l'exemple je prends un patch au hasard:\n",
    "#patch = patches[43]\n",
    "#patch_show(patch)\n",
    "patches_stats(patches)"
   ]
  },
  {
   "cell_type": "code",
   "execution_count": null,
   "id": "950feca1",
   "metadata": {},
   "outputs": [],
   "source": [
    "# la plus grosse diff entre un noyau et le reste c'est probablement le fait d'avoir des valeurs blanches >30000\n",
    "# en faisant un truc du genre:\n",
    "print(np.count_nonzero(patch > 30000))\n",
    "# on peut avoir le nombre de pixel avec une valeur > 30 000 dans notre image\n",
    "\n",
    "# On pourrait se dire que si y en a beaucoup (donc definir un seuil) on garde pas l'image"
   ]
  },
  {
   "cell_type": "code",
   "execution_count": null,
   "id": "00500d49",
   "metadata": {},
   "outputs": [],
   "source": []
  },
  {
   "cell_type": "code",
   "execution_count": null,
   "id": "c48ce630",
   "metadata": {},
   "outputs": [],
   "source": []
  }
 ],
 "metadata": {
  "kernelspec": {
   "display_name": "Python 3 (ipykernel)",
   "language": "python",
   "name": "python3"
  },
  "language_info": {
   "codemirror_mode": {
    "name": "ipython",
    "version": 3
   },
   "file_extension": ".py",
   "mimetype": "text/x-python",
   "name": "python",
   "nbconvert_exporter": "python",
   "pygments_lexer": "ipython3",
   "version": "3.8.10"
  }
 },
 "nbformat": 4,
 "nbformat_minor": 5
}
