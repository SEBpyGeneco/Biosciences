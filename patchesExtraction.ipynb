{
 "cells": [
  {
   "cell_type": "code",
   "execution_count": 1,
   "metadata": {},
   "outputs": [],
   "source": [
    "from sklearn.datasets import load_sample_image\n",
    "from sklearn.feature_extraction import image\n",
    "from skimage import io, color\n",
    "import numpy as np\n",
    "import matplotlib.pyplot as plt\n",
    "import cv2\n",
    "from os import listdir"
   ]
  },
  {
   "cell_type": "code",
   "execution_count": 4,
   "metadata": {},
   "outputs": [],
   "source": [
    "######################################## FUNCTIONS ########################################\n",
    "\n",
    "##### Import / Filtres\n",
    "\n",
    "# extrait les patches d'une image\n",
    "def extract_patches(path, size, patch_count) :\n",
    "    img = io.imread(path)*256\n",
    "    patches = image.extract_patches_2d(img, (size,size),max_patches=patch_count)\n",
    "    return patches\n",
    "\n",
    "# extrait les patches d'un dossier d'images\n",
    "def folder_patches(path, size, patch_count) :\n",
    "    patches = np.ndarray((0,size,size))\n",
    "    for file in listdir(path) :\n",
    "        new_patches = extract_patches(path+\"/\"+file, size, patch_count)\n",
    "        patches = np.concatenate((patches, new_patches))\n",
    "    return patches\n",
    "\n",
    "#extrait les patches d'un dossier de dossiers d'images\n",
    "def meta_folder_patches(path, size, patch_count,threshold) :\n",
    "    for directory in listdir(path) :\n",
    "        good = folder_patches(path + \"/\" + directory + '/Good/Prediction', size, patch_count)\n",
    "        bad = folder_patches(path + \"/\" + directory + '/Bad/Prediction', size, patch_count)\n",
    "        \n",
    "        good = filter_patches(good,threshold, size)\n",
    "        bad = filter_patches(bad,threshold, size)\n",
    "        \n",
    "        save_patches(good, './Data/Patches_train/Good/' + directory + \"_good_\")\n",
    "        save_patches(bad, './Data/Patches_train/Bad/' + directory + \"_bad_\")\n",
    "    \n",
    "    \n",
    "#Filters\n",
    "        \n",
    "def filter_patches(patches,seuil,size) :\n",
    "    out = np.ndarray((0,size,size))\n",
    "    for i in range(len(patches)) :\n",
    "\n",
    "        if np.mean(patches[i]) > seuil :\n",
    "            out = np.concatenate([out, [patches[i]]])\n",
    "    \n",
    "    return out\n",
    "\n",
    "##### Affichage / Export\n",
    "def patch_show(patch) :\n",
    "    io.imshow(patch)\n",
    "    # les images de bases sont en unsigned 16 bits donc les pixels vont de 0 --> 65535\n",
    "    histogramme, classes = np.histogram(patch, bins=65536)\n",
    "    print(histogramme)\n",
    "\n",
    "    plt.figure()\n",
    "    plt.xlabel(\"pixel value\")\n",
    "    plt.ylabel(\"pixel count\")\n",
    "    plt.yscale('log')\n",
    "    plt.plot(classes[0:-1], histogramme)\n",
    "    plt.show()\n",
    "    \n",
    "def patches_stats(patches) :\n",
    "    print(\"Il y a %s patches\" %(len(patches)))\n",
    "    \n",
    "    averages = np.mean(patches,axis=(1,2))\n",
    "    #np.mean (on choisit les images qui ont une moyenne assez élevée ?)\n",
    "    #np.var (on choisit les images qui ont une forte variance, donc pas que tout blanc tout noir ?)\n",
    "    histogramme, classes = np.histogram(averages, bins=65536)\n",
    "    #print(histogramme)\n",
    "\n",
    "    plt.figure()\n",
    "    plt.xlabel(\"average pixel value of a patch\")\n",
    "    plt.ylabel(\"pixel count\")\n",
    "    plt.yscale('log')\n",
    "    plt.plot(classes[0:-1], histogramme)\n",
    "    plt.show()\n",
    "\n",
    "def save_patches(patches, path) :\n",
    "    for i in range(len(patches)) :\n",
    "        true_path = path+\"_\"+str(i)+\".tif\"\n",
    "        cv2.imwrite(true_path,(patches[i]).astype('uint16'))\n",
    "\n"
   ]
  },
  {
   "cell_type": "code",
   "execution_count": 5,
   "metadata": {},
   "outputs": [
    {
     "ename": "KeyboardInterrupt",
     "evalue": "",
     "output_type": "error",
     "traceback": [
      "\u001b[0;31m---------------------------------------------------------------------------\u001b[0m",
      "\u001b[0;31mKeyboardInterrupt\u001b[0m                         Traceback (most recent call last)",
      "\u001b[0;32m<ipython-input-5-0873f1548f5b>\u001b[0m in \u001b[0;36m<module>\u001b[0;34m()\u001b[0m\n\u001b[1;32m      5\u001b[0m \u001b[0mTHRESHOLD\u001b[0m \u001b[0;34m=\u001b[0m \u001b[0;36m3\u001b[0m\u001b[0;34m\u001b[0m\u001b[0;34m\u001b[0m\u001b[0m\n\u001b[1;32m      6\u001b[0m \u001b[0;34m\u001b[0m\u001b[0m\n\u001b[0;32m----> 7\u001b[0;31m \u001b[0mmeta_folder_patches\u001b[0m\u001b[0;34m(\u001b[0m\u001b[0mPATH\u001b[0m\u001b[0;34m,\u001b[0m \u001b[0mSIZE\u001b[0m\u001b[0;34m,\u001b[0m \u001b[0mMAXPATCH\u001b[0m\u001b[0;34m,\u001b[0m \u001b[0mTHRESHOLD\u001b[0m\u001b[0;34m)\u001b[0m\u001b[0;34m\u001b[0m\u001b[0;34m\u001b[0m\u001b[0m\n\u001b[0m",
      "\u001b[0;32m<ipython-input-4-532b0242b3f6>\u001b[0m in \u001b[0;36mmeta_folder_patches\u001b[0;34m(path, size, patch_count, threshold)\u001b[0m\n\u001b[1;32m     27\u001b[0m \u001b[0;34m\u001b[0m\u001b[0m\n\u001b[1;32m     28\u001b[0m         \u001b[0msave_patches\u001b[0m\u001b[0;34m(\u001b[0m\u001b[0mgood\u001b[0m\u001b[0;34m,\u001b[0m \u001b[0;34m'./Data/Patches_train/Good/'\u001b[0m \u001b[0;34m+\u001b[0m \u001b[0mdirectory\u001b[0m \u001b[0;34m+\u001b[0m \u001b[0;34m\"_good_\"\u001b[0m\u001b[0;34m)\u001b[0m\u001b[0;34m\u001b[0m\u001b[0;34m\u001b[0m\u001b[0m\n\u001b[0;32m---> 29\u001b[0;31m         \u001b[0msave_patches\u001b[0m\u001b[0;34m(\u001b[0m\u001b[0mbad\u001b[0m\u001b[0;34m,\u001b[0m \u001b[0;34m'./Data/Patches_train/Bad/'\u001b[0m \u001b[0;34m+\u001b[0m \u001b[0mdirectory\u001b[0m \u001b[0;34m+\u001b[0m \u001b[0;34m\"_bad_\"\u001b[0m\u001b[0;34m)\u001b[0m\u001b[0;34m\u001b[0m\u001b[0;34m\u001b[0m\u001b[0m\n\u001b[0m\u001b[1;32m     30\u001b[0m \u001b[0;34m\u001b[0m\u001b[0m\n\u001b[1;32m     31\u001b[0m \u001b[0;34m\u001b[0m\u001b[0m\n",
      "\u001b[0;32m<ipython-input-4-532b0242b3f6>\u001b[0m in \u001b[0;36msave_patches\u001b[0;34m(patches, path)\u001b[0m\n\u001b[1;32m     74\u001b[0m     \u001b[0;32mfor\u001b[0m \u001b[0mi\u001b[0m \u001b[0;32min\u001b[0m \u001b[0mrange\u001b[0m\u001b[0;34m(\u001b[0m\u001b[0mlen\u001b[0m\u001b[0;34m(\u001b[0m\u001b[0mpatches\u001b[0m\u001b[0;34m)\u001b[0m\u001b[0;34m)\u001b[0m \u001b[0;34m:\u001b[0m\u001b[0;34m\u001b[0m\u001b[0;34m\u001b[0m\u001b[0m\n\u001b[1;32m     75\u001b[0m         \u001b[0mtrue_path\u001b[0m \u001b[0;34m=\u001b[0m \u001b[0mpath\u001b[0m\u001b[0;34m+\u001b[0m\u001b[0;34m\"_\"\u001b[0m\u001b[0;34m+\u001b[0m\u001b[0mstr\u001b[0m\u001b[0;34m(\u001b[0m\u001b[0mi\u001b[0m\u001b[0;34m)\u001b[0m\u001b[0;34m+\u001b[0m\u001b[0;34m\".tif\"\u001b[0m\u001b[0;34m\u001b[0m\u001b[0;34m\u001b[0m\u001b[0m\n\u001b[0;32m---> 76\u001b[0;31m         \u001b[0mcv2\u001b[0m\u001b[0;34m.\u001b[0m\u001b[0mimwrite\u001b[0m\u001b[0;34m(\u001b[0m\u001b[0mtrue_path\u001b[0m\u001b[0;34m,\u001b[0m\u001b[0;34m(\u001b[0m\u001b[0mpatches\u001b[0m\u001b[0;34m[\u001b[0m\u001b[0mi\u001b[0m\u001b[0;34m]\u001b[0m\u001b[0;34m)\u001b[0m\u001b[0;34m.\u001b[0m\u001b[0mastype\u001b[0m\u001b[0;34m(\u001b[0m\u001b[0;34m'uint16'\u001b[0m\u001b[0;34m)\u001b[0m\u001b[0;34m)\u001b[0m\u001b[0;34m\u001b[0m\u001b[0;34m\u001b[0m\u001b[0m\n\u001b[0m\u001b[1;32m     77\u001b[0m \u001b[0;34m\u001b[0m\u001b[0m\n",
      "\u001b[0;31mKeyboardInterrupt\u001b[0m: "
     ]
    }
   ],
   "source": [
    "######################################## MAIN ########################################\n",
    "PATH = \"./Data/Images-Cytation/\"\n",
    "SIZE = 320\n",
    "MAXPATCH = 10\n",
    "THRESHOLD = 3\n",
    "\n",
    "meta_folder_patches(PATH, SIZE, MAXPATCH, THRESHOLD)"
   ]
  },
  {
   "cell_type": "code",
   "execution_count": null,
   "metadata": {},
   "outputs": [],
   "source": []
  },
  {
   "cell_type": "code",
   "execution_count": null,
   "metadata": {},
   "outputs": [],
   "source": []
  }
 ],
 "metadata": {
  "kernelspec": {
   "display_name": "Python 3",
   "language": "python",
   "name": "python3"
  },
  "language_info": {
   "codemirror_mode": {
    "name": "ipython",
    "version": 3
   },
   "file_extension": ".py",
   "mimetype": "text/x-python",
   "name": "python",
   "nbconvert_exporter": "python",
   "pygments_lexer": "ipython3",
   "version": "3.7.3"
  }
 },
 "nbformat": 4,
 "nbformat_minor": 5
}
