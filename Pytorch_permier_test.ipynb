{
 "cells": [
  {
   "cell_type": "code",
   "execution_count": 34,
   "id": "9f923bbd",
   "metadata": {},
   "outputs": [],
   "source": [
    "import matplotlib.pyplot as plt\n",
    "from torchvision import datasets, transforms\n",
    "from torch.utils.data import DataLoader\n",
    "import torch.nn as nn\n",
    "import torch.nn.functional as F\n",
    "import torch.optim as optim\n",
    "import torch\n",
    "from torch.utils.tensorboard import SummaryWriter\n",
    "import matplotlib.pyplot as plt\n",
    "\n",
    "import gc\n",
    "\n",
    "%reload_ext tensorboard\n",
    "log_folder = './logs8'\n",
    "\n",
    "gc.collect()\n",
    "\n",
    "torch.cuda.empty_cache()\n",
    "\n",
    "#writer = SummaryWriter()"
   ]
  },
  {
   "cell_type": "code",
   "execution_count": 101,
   "id": "223cba23",
   "metadata": {},
   "outputs": [],
   "source": [
    "def get_data():\n",
    "    data_dir = './Data'\n",
    "    \n",
    "    transform = transforms.Compose(\n",
    "    [transforms.Resize((256,256)),\n",
    "    transforms.ToTensor()])\n",
    "    #transforms.Normalize((0.5), (0.5))])\n",
    "\n",
    "    trainSet = datasets.ImageFolder(data_dir + '/TrainSet', transform=transform)\n",
    "    print(len(trainSet))\n",
    "    print(trainSet[0])\n",
    "    #validSet = datasets.ImageFolder(data_dir + '/ValidSet', transform=transform)\n",
    "\n",
    "    train = DataLoader(trainSet, batch_size=12, shuffle=True)\n",
    "    #valid = DataLoader(test_set, batch_size=32, shuffle=True)\n",
    "\n",
    "    return train#, test"
   ]
  },
  {
   "cell_type": "code",
   "execution_count": 102,
   "id": "90561fdf",
   "metadata": {},
   "outputs": [],
   "source": [
    "def train_imshow():\n",
    "    classes = ('Bad', 'Good')\n",
    "    dataiter = iter(train)\n",
    "    images, labels = dataiter.next()\n",
    "    fig, axes = plt.subplots(figsize=(10, 4), ncols=5)\n",
    "    for i in range(5):\n",
    "        ax = axes[i]\n",
    "        ax.imshow(images[i].permute(1, 2, 0))\n",
    "        ax.title.set_text(' '.join('%5s' % classes[labels[i]]))\n",
    "    plt.show()"
   ]
  },
  {
   "cell_type": "code",
   "execution_count": 103,
   "id": "20d7dac8",
   "metadata": {},
   "outputs": [
    {
     "name": "stdout",
     "output_type": "stream",
     "text": [
      "110\n",
      "(tensor([[[0.0039, 0.0000, 0.0000,  ..., 0.0039, 0.0039, 0.0039],\n",
      "         [0.0039, 0.0000, 0.0000,  ..., 0.0039, 0.0039, 0.0039],\n",
      "         [0.0039, 0.0000, 0.0000,  ..., 0.0039, 0.0039, 0.0039],\n",
      "         ...,\n",
      "         [0.0039, 0.0039, 0.0039,  ..., 0.0039, 0.0039, 0.0039],\n",
      "         [0.0039, 0.0039, 0.0039,  ..., 0.0039, 0.0039, 0.0039],\n",
      "         [0.0078, 0.0078, 0.0078,  ..., 0.0039, 0.0039, 0.0039]],\n",
      "\n",
      "        [[0.0039, 0.0000, 0.0000,  ..., 0.0039, 0.0039, 0.0039],\n",
      "         [0.0039, 0.0000, 0.0000,  ..., 0.0039, 0.0039, 0.0039],\n",
      "         [0.0039, 0.0000, 0.0000,  ..., 0.0039, 0.0039, 0.0039],\n",
      "         ...,\n",
      "         [0.0039, 0.0039, 0.0039,  ..., 0.0039, 0.0039, 0.0039],\n",
      "         [0.0039, 0.0039, 0.0039,  ..., 0.0039, 0.0039, 0.0039],\n",
      "         [0.0078, 0.0078, 0.0078,  ..., 0.0039, 0.0039, 0.0039]],\n",
      "\n",
      "        [[0.0039, 0.0000, 0.0000,  ..., 0.0039, 0.0039, 0.0039],\n",
      "         [0.0039, 0.0000, 0.0000,  ..., 0.0039, 0.0039, 0.0039],\n",
      "         [0.0039, 0.0000, 0.0000,  ..., 0.0039, 0.0039, 0.0039],\n",
      "         ...,\n",
      "         [0.0039, 0.0039, 0.0039,  ..., 0.0039, 0.0039, 0.0039],\n",
      "         [0.0039, 0.0039, 0.0039,  ..., 0.0039, 0.0039, 0.0039],\n",
      "         [0.0078, 0.0078, 0.0078,  ..., 0.0039, 0.0039, 0.0039]]]), 0)\n",
      "<torch.utils.data.dataloader.DataLoader object at 0x7ff3c829fb80>\n"
     ]
    },
    {
     "data": {
      "image/png": "[encoded data removed]",
      "text/plain": [
       "<Figure size 720x288 with 5 Axes>"
      ]
     },
     "metadata": {
      "needs_background": "light"
     },
     "output_type": "display_data"
    }
   ],
   "source": [
    "train = get_data()\n",
    "print(train)\n",
    "train_imshow()"
   ]
  },
  {
   "cell_type": "code",
   "execution_count": 104,
   "id": "03c49abb",
   "metadata": {},
   "outputs": [],
   "source": [
    "class Net(nn.Module):\n",
    "    def __init__(self):\n",
    "        super().__init__()\n",
    "        self.conv1 = nn.Conv2d(3, 32, 11)\n",
    "        self.maxpool = nn.MaxPool2d(3, 3)\n",
    "        self.conv2 = nn.Conv2d(32, 64, 5)\n",
    "        self.conv3 = nn.Conv2d(64, 128, 3)\n",
    "        self.conv4 = nn.Conv2d(128, 128, 3)\n",
    "        self.conv5 = nn.Conv2d(128, 64, 3)\n",
    "        self.fc1 = nn.Linear(2304, 1152)\n",
    "        self.fc2 = nn.Linear(1152, 1152)\n",
    "        self.fc3 = nn.Linear(1152, 1)\n",
    "\n",
    "    def forward(self, x):\n",
    "        #print(\"input shape: \",x.shape)\n",
    "        x = F.relu(self.conv1(x))\n",
    "        #print(\"after conv1: \",x.shape)\n",
    "        x = self.maxpool(x)\n",
    "        #print(\"after maxpool1: \",x.shape)\n",
    "        x = F.relu(self.conv2(x))\n",
    "        #print(\"after conv2: \",x.shape)\n",
    "        x = self.maxpool(x)\n",
    "        #print(\"after maxpool2: \",x.shape)\n",
    "        x = F.relu(self.conv3(x))\n",
    "        #print(\"after conv3: \",x.shape)\n",
    "        x = F.relu(self.conv4(x))\n",
    "        #print(\"after conv4: \",x.shape)\n",
    "        x = F.relu(self.conv5(x))\n",
    "        #print(\"after conv5: \",x.shape)\n",
    "        x = self.maxpool(x)\n",
    "        #print(\"after maxpool3: \",x.shape)\n",
    "        x = x.reshape(x.shape[0], -1)\n",
    "        #print(\"after flattening: \",x.shape)\n",
    "        x = F.relu(self.fc1(x))\n",
    "        #print(\"after linear1: \",x.shape)\n",
    "        x = F.relu(self.fc2(x))\n",
    "        #print(\"after linear2: \",x.shape)\n",
    "        x = self.fc3(x)\n",
    "        #print(\"output shape: \",x.shape)\n",
    "        return x\n",
    "\n",
    "\n",
    "net = Net()"
   ]
  },
  {
   "cell_type": "code",
   "execution_count": 105,
   "id": "65029e5f",
   "metadata": {},
   "outputs": [],
   "source": [
    "net = Net()\n",
    "criterion = nn.BCEWithLogitsLoss()\n",
    "optimizer = optim.SGD(net.parameters(), lr=0.001, momentum=0.9)"
   ]
  },
  {
   "cell_type": "code",
   "execution_count": 106,
   "id": "a7bb47e7",
   "metadata": {},
   "outputs": [
    {
     "data": {
      "text/plain": [
       "'\\nif torch.cuda.is_available(): # Checking if we can use GPU\\n    model = net.cuda()\\n    criterion = criterion.cuda()\\n'"
      ]
     },
     "execution_count": 106,
     "metadata": {},
     "output_type": "execute_result"
    }
   ],
   "source": [
    "\"\"\"\n",
    "if torch.cuda.is_available(): # Checking if we can use GPU\n",
    "    model = net.cuda()\n",
    "    criterion = criterion.cuda()\n",
    "\"\"\""
   ]
  },
  {
   "cell_type": "code",
   "execution_count": 107,
   "id": "0e681c8d",
   "metadata": {},
   "outputs": [
    {
     "name": "stdout",
     "output_type": "stream",
     "text": [
      "Starting epoch 1\n",
      "Loss = 0.0630534600127827\n",
      "Starting epoch 2\n",
      "Loss = 0.06304869272492149\n",
      "Starting epoch 3\n",
      "Loss = 0.06304235458374023\n",
      "Starting epoch 4\n",
      "Loss = 0.06309310035272078\n",
      "Starting epoch 5\n",
      "Loss = 0.06302628354592757\n",
      "Starting epoch 6\n",
      "Loss = 0.06303501671010797\n",
      "Starting epoch 7\n",
      "Loss = 0.06302930333397605\n",
      "Starting epoch 8\n",
      "Loss = 0.063010066205805\n",
      "Starting epoch 9\n",
      "Loss = 0.06300752813165839\n",
      "Starting epoch 10\n",
      "Loss = 0.06297376426783476\n",
      "Starting epoch 11\n",
      "Loss = 0.06304785717617381\n",
      "Starting epoch 12\n",
      "Loss = 0.0629978440024636\n",
      "Starting epoch 13\n",
      "Loss = 0.06299923387440769\n",
      "Starting epoch 14\n",
      "Loss = 0.06305164044553584\n",
      "Starting epoch 15\n",
      "Loss = 0.06305018013173884\n",
      "Finished Training\n"
     ]
    }
   ],
   "source": [
    "epochs=15\n",
    "loss_list =[]\n",
    "for epoch in range(epochs):\n",
    "    print(f'Starting epoch {epoch+1}')\n",
    "    current_loss = 0.0\n",
    "    for i, data in enumerate(train, 0):\n",
    "\n",
    "        inputs, labels = data\n",
    "\n",
    "        \n",
    "\n",
    "        optimizer.zero_grad()\n",
    "        outputs = net(inputs)\n",
    "        labels = labels.unsqueeze(-1)\n",
    "        labels = labels.to(torch.float32)\n",
    "        loss = criterion(outputs, labels)\n",
    "        loss.backward()\n",
    "        optimizer.step()\n",
    "\n",
    "        current_loss += loss.item()\n",
    "        if i == 9:\n",
    "            print(f\"Loss = {current_loss/110}\")\n",
    "            loss_list.append(current_loss)\n",
    "            current_loss = 0.0\n",
    "\n",
    "print('Finished Training')"
   ]
  },
  {
   "cell_type": "code",
   "execution_count": 108,
   "id": "b82b1c25",
   "metadata": {},
   "outputs": [
    {
     "data": {
      "image/png": "[encoded data removed]",
      "text/plain": [
       "<Figure size 432x288 with 1 Axes>"
      ]
     },
     "metadata": {
      "needs_background": "light"
     },
     "output_type": "display_data"
    }
   ],
   "source": [
    "epochs = range(1,epochs+1)\n",
    "plt.plot(epochs,loss_list)\n",
    "plt.title(\"training loss\")\n",
    "plt.xlabel(\"epochs\")\n",
    "plt.ylabel(\"Loss\")\n",
    "plt.legend\n",
    "plt.show()"
   ]
  },
  {
   "cell_type": "code",
   "execution_count": null,
   "id": "fb3039e6",
   "metadata": {},
   "outputs": [],
   "source": []
  }
 ],
 "metadata": {
  "kernelspec": {
   "display_name": "Python 3 (ipykernel)",
   "language": "python",
   "name": "python3"
  },
  "language_info": {
   "codemirror_mode": {
    "name": "ipython",
    "version": 3
   },
   "file_extension": ".py",
   "mimetype": "text/x-python",
   "name": "python",
   "nbconvert_exporter": "python",
   "pygments_lexer": "ipython3",
   "version": "3.8.10"
  }
 },
 "nbformat": 4,
 "nbformat_minor": 5
}
