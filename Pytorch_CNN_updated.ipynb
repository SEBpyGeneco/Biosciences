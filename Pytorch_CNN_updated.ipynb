{
 "cells": [
  {
   "cell_type": "code",
   "execution_count": 73,
   "id": "9f923bbd",
   "metadata": {},
   "outputs": [],
   "source": [
    "import matplotlib.pyplot as plt\n",
    "from torchvision import datasets, transforms\n",
    "from torch.utils.data import DataLoader\n",
    "import torch.nn as nn\n",
    "import torch.nn.functional as F\n",
    "import torch.optim as optim\n",
    "import torch\n",
    "import matplotlib.pyplot as plt\n",
    "import gc\n",
    "\n",
    "gc.collect()\n",
    "torch.cuda.empty_cache()\n",
    "\n",
    "#from torch.utils.tensorboard import SummaryWriter\n",
    "#%reload_ext tensorboard\n",
    "#log_folder = './logs9'\n",
    "#writer = SummaryWriter()"
   ]
  },
  {
   "cell_type": "code",
   "execution_count": 74,
   "id": "223cba23",
   "metadata": {},
   "outputs": [],
   "source": [
    "def get_data():\n",
    "    data_dir = './Data'\n",
    "    \n",
    "    transform = transforms.Compose(\n",
    "    [transforms.Resize((300,300)),\n",
    "    transforms.RandomHorizontalFlip(),\n",
    "    transforms.RandomVerticalFlip(),\n",
    "    transforms.ToTensor(),\n",
    "    transforms.Normalize(mean=[0.5],\n",
    "                         std=[0.5])])\n",
    "\n",
    "    trainSet = datasets.ImageFolder(data_dir + '/TrainSet', transform=transform)\n",
    "    print(len(trainSet))\n",
    "    validSet = datasets.ImageFolder(data_dir + '/ValidSet', transform=transform)\n",
    "    testSet = datasets.ImageFolder(data_dir + '/TestSet', transform=transform)\n",
    "\n",
    "    train = DataLoader(trainSet, batch_size=32, shuffle=True)\n",
    "    valid = DataLoader(validSet, batch_size=32, shuffle=False)\n",
    "    test = DataLoader(testSet, batch_size=32, shuffle=False)\n",
    "\n",
    "    return train, valid,test"
   ]
  },
  {
   "cell_type": "code",
   "execution_count": 75,
   "id": "90561fdf",
   "metadata": {},
   "outputs": [
    {
     "name": "stdout",
     "output_type": "stream",
     "text": [
      "247\n"
     ]
    },
    {
     "name": "stderr",
     "output_type": "stream",
     "text": [
      "Clipping input data to the valid range for imshow with RGB data ([0..1] for floats or [0..255] for integers).\n",
      "Clipping input data to the valid range for imshow with RGB data ([0..1] for floats or [0..255] for integers).\n",
      "Clipping input data to the valid range for imshow with RGB data ([0..1] for floats or [0..255] for integers).\n",
      "Clipping input data to the valid range for imshow with RGB data ([0..1] for floats or [0..255] for integers).\n",
      "Clipping input data to the valid range for imshow with RGB data ([0..1] for floats or [0..255] for integers).\n"
     ]
    },
    {
     "data": {
      "image/png": "[encoded data removed]",
      "text/plain": [
       "<Figure size 720x288 with 5 Axes>"
      ]
     },
     "metadata": {
      "needs_background": "light"
     },
     "output_type": "display_data"
    },
    {
     "name": "stdout",
     "output_type": "stream",
     "text": [
      "8\n"
     ]
    }
   ],
   "source": [
    "def train_imshow():\n",
    "    classes = ('Bad', 'Good')\n",
    "    dataiter = iter(train_loader)\n",
    "    images, labels = dataiter.next()\n",
    "    fig, axes = plt.subplots(figsize=(10, 4), ncols=5)\n",
    "    for i in range(5):\n",
    "        ax = axes[i]\n",
    "        ax.imshow(images[i].permute(1, 2, 0))\n",
    "        ax.title.set_text(' '.join('%5s' % classes[labels[i]]))\n",
    "    plt.show()\n",
    "\n",
    "train_loader, val_loader,test_loader = get_data()\n",
    "train_imshow()\n",
    "print(len(train_loader))"
   ]
  },
  {
   "cell_type": "code",
   "execution_count": 77,
   "id": "f7708bd1",
   "metadata": {},
   "outputs": [],
   "source": [
    "class Net(nn.Module):\n",
    "    def __init__(self):\n",
    "        super(Net, self).__init__()\n",
    "        self.conv1 = nn.Conv2d(in_channels=3, out_channels= 64, kernel_size= 11, stride=4, padding=0 )\n",
    "        self.maxpool = nn.MaxPool2d(kernel_size=3, stride=2)\n",
    "        self.conv2 = nn.Conv2d(in_channels=64, out_channels=128, kernel_size=5, stride= 1, padding= 2)\n",
    "        self.conv3 = nn.Conv2d(in_channels=128, out_channels=256, kernel_size=3, stride= 1, padding= 1)\n",
    "        self.conv4 = nn.Conv2d(in_channels=256, out_channels=256, kernel_size=3, stride=1, padding=1)\n",
    "        self.conv5 = nn.Conv2d(in_channels=256, out_channels=128, kernel_size=3, stride=1, padding=1)\n",
    "        self.fc1  = nn.Linear(in_features= 8192, out_features= 4096)\n",
    "        self.fc2  = nn.Linear(in_features= 4096, out_features= 1024)\n",
    "        self.fc3 = nn.Linear(in_features=1024 , out_features=1)\n",
    "\n",
    "\n",
    "    def forward(self,x):\n",
    "        x = F.relu(self.conv1(x))\n",
    "        x = self.maxpool(x)\n",
    "        x = F.relu(self.conv2(x))\n",
    "        x = self.maxpool(x)\n",
    "        x = F.relu(self.conv3(x))\n",
    "        x = F.relu(self.conv4(x))\n",
    "        x = F.relu(self.conv5(x))\n",
    "        x = self.maxpool(x)\n",
    "        #print(\"bf flattening: \",x.shape)\n",
    "        x = x.reshape(x.shape[0], -1)\n",
    "        #print(\"after flattening: \",x.shape)\n",
    "        x = F.relu(self.fc1(x))\n",
    "        x = F.relu(self.fc2(x))\n",
    "        x = self.fc3(x)\n",
    "        x = F.sigmoid(x)\n",
    "        return x"
   ]
  },
  {
   "cell_type": "code",
   "execution_count": 79,
   "id": "8e321a06",
   "metadata": {},
   "outputs": [],
   "source": [
    "device=\"cpu\"\n",
    "model = Net().to(device)\n",
    "model.train()\n",
    "criterion = nn.BCELoss()\n",
    "optimizer = optim.SGD(model.parameters(), lr=0.01)"
   ]
  },
  {
   "cell_type": "code",
   "execution_count": 82,
   "id": "4f059a14",
   "metadata": {},
   "outputs": [
    {
     "name": "stdout",
     "output_type": "stream",
     "text": [
      "Epoch : 1, train accuracy : 0.5261548757553101, train loss : 0.6931143999099731\n",
      "Epoch : 2, train accuracy : 0.527683436870575, train loss : 0.6930818557739258\n",
      "Epoch : 3, train accuracy : 0.5261548757553101, train loss : 0.6929404735565186\n",
      "Epoch : 4, train accuracy : 0.523097813129425, train loss : 0.6929419040679932\n",
      "Epoch : 5, train accuracy : 0.5261548757553101, train loss : 0.692877471446991\n",
      "Epoch : 6, train accuracy : 0.5261548757553101, train loss : 0.6927440762519836\n",
      "Epoch : 7, train accuracy : 0.5215693116188049, train loss : 0.6928196549415588\n",
      "Epoch : 8, train accuracy : 0.5261548757553101, train loss : 0.6926969885826111\n",
      "Epoch : 9, train accuracy : 0.5292119383811951, train loss : 0.6925444602966309\n",
      "Epoch : 10, train accuracy : 0.53074049949646, train loss : 0.69244384765625\n",
      "Epoch : 11, train accuracy : 0.52004075050354, train loss : 0.6927509903907776\n",
      "Epoch : 12, train accuracy : 0.527683436870575, train loss : 0.6924931406974792\n",
      "Epoch : 13, train accuracy : 0.5322690010070801, train loss : 0.6922557353973389\n",
      "Epoch : 14, train accuracy : 0.53074049949646, train loss : 0.6922302842140198\n",
      "Epoch : 15, train accuracy : 0.53074049949646, train loss : 0.6921827793121338\n"
     ]
    }
   ],
   "source": [
    "epochs = 15\n",
    "\n",
    "for epoch in range(epochs):\n",
    "    epoch_loss =0\n",
    "    epoch_accuracy = 0\n",
    "    \n",
    "    for data,label in train_loader:\n",
    "        data= data.to(device)\n",
    "        label = label.to(device)\n",
    "        \n",
    "        output = model(data)\n",
    "        label = label.unsqueeze(-1)\n",
    "        label = label.to(torch.float32)\n",
    "        loss = criterion(output,label)\n",
    "        \n",
    "        optimizer.zero_grad()\n",
    "        loss.backward()\n",
    "        optimizer.step()\n",
    "        \n",
    "        acc = ((output.argmax(dim=1)==label).float().mean())\n",
    "        epoch_accuracy += acc/len(train_loader)\n",
    "        epoch_loss += loss/len(train_loader)\n",
    "        \n",
    "    print('Epoch : {}, train accuracy : {}, train loss : {}'.format(epoch+1, epoch_accuracy,epoch_loss))"
   ]
  },
  {
   "cell_type": "code",
   "execution_count": 85,
   "id": "fb3039e6",
   "metadata": {},
   "outputs": [
    {
     "name": "stdout",
     "output_type": "stream",
     "text": [
      "tensor([[0.4900],\n",
      "        [0.4900],\n",
      "        [0.4900],\n",
      "        [0.4900],\n",
      "        [0.4900],\n",
      "        [0.4900],\n",
      "        [0.4900],\n",
      "        [0.4900],\n",
      "        [0.4900],\n",
      "        [0.4900],\n",
      "        [0.4900],\n",
      "        [0.4900],\n",
      "        [0.4900],\n",
      "        [0.4900],\n",
      "        [0.4900],\n",
      "        [0.4900],\n",
      "        [0.4900],\n",
      "        [0.4900],\n",
      "        [0.4900],\n",
      "        [0.4899],\n",
      "        [0.4900],\n",
      "        [0.4900],\n",
      "        [0.4900],\n",
      "        [0.4900],\n",
      "        [0.4900],\n",
      "        [0.4900],\n",
      "        [0.4900],\n",
      "        [0.4900],\n",
      "        [0.4900],\n",
      "        [0.4900],\n",
      "        [0.4900],\n",
      "        [0.4900]])\n",
      "tensor([0, 0, 0, 0, 0, 0, 0, 0, 0, 0, 0, 0, 0, 0, 0, 0, 0, 0, 0, 0, 0, 0, 0, 0,\n",
      "        0, 0, 0, 0, 0, 0, 0, 0])\n",
      "tensor([[0.4900],\n",
      "        [0.4900],\n",
      "        [0.4900],\n",
      "        [0.4900],\n",
      "        [0.4900],\n",
      "        [0.4900],\n",
      "        [0.4900],\n",
      "        [0.4900],\n",
      "        [0.4899],\n",
      "        [0.4900],\n",
      "        [0.4899],\n",
      "        [0.4900],\n",
      "        [0.4900],\n",
      "        [0.4900],\n",
      "        [0.4900],\n",
      "        [0.4900],\n",
      "        [0.4900],\n",
      "        [0.4900],\n",
      "        [0.4900],\n",
      "        [0.4900]])\n",
      "tensor([0, 0, 0, 0, 0, 0, 0, 0, 0, 0, 0, 0, 0, 0, 0, 0, 0, 0, 0, 0])\n",
      "Accuracy of the network on the validation images: 53 %\n"
     ]
    }
   ],
   "source": [
    "correct = 0\n",
    "total = 0\n",
    "\n",
    "with torch.no_grad():\n",
    "    for data in test_loader:\n",
    "        images, labels = data\n",
    "        outputs = model(images)\n",
    "        print(outputs)\n",
    "        predicted_targets = outputs.argmax(dim=1)\n",
    "        print(predicted_targets)\n",
    "        total += labels.size(0)\n",
    "        correct += (predicted_targets == labels).sum().item()\n",
    "\n",
    "print(f'Accuracy of the network on the validation images: {100 * correct // total} %')"
   ]
  },
  {
   "cell_type": "code",
   "execution_count": null,
   "id": "31a10853",
   "metadata": {},
   "outputs": [],
   "source": []
  }
 ],
 "metadata": {
  "kernelspec": {
   "display_name": "Python 3 (ipykernel)",
   "language": "python",
   "name": "python3"
  },
  "language_info": {
   "codemirror_mode": {
    "name": "ipython",
    "version": 3
   },
   "file_extension": ".py",
   "mimetype": "text/x-python",
   "name": "python",
   "nbconvert_exporter": "python",
   "pygments_lexer": "ipython3",
   "version": "3.8.10"
  }
 },
 "nbformat": 4,
 "nbformat_minor": 5
}
